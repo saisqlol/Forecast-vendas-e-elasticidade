{
 "cells": [
  {
   "cell_type": "code",
   "execution_count": null,
   "id": "28f04de2",
   "metadata": {},
   "outputs": [],
   "source": [
    "import os\n",
    "import sys\n",
    "\n",
    "current_dir = os.getcwd()\n",
    "project_root = os.path.abspath(os.path.join(current_dir, '..'))\n",
    "if project_root not in sys.path:\n",
    "    sys.path.append(project_root)\n",
    "\n",
    "from Functions.Pipeline import pipeline_completa_skus\n",
    "from Functions.FNC_Pro import lista_produtos,configurar_credenciais_bq\n",
    "\n",
    "\n",
    "configurar_credenciais_bq(r'G:Drives compartilhados/Bases BI/epoca-230913-b478a9a0dd4c.json')\n",
    "\n",
    "produtos = lista_produtos('C:/Users/joaop/OneDrive/Desktop/Projetos Git/Forecast vendas e elasticidade/Produtos/Planilha com Impostos.xlsm')\n",
    "\n",
    "# Executar pipeline completa\n",
    "resultados, previsoes = pipeline_completa_skus(\n",
    "    df_produtos=produtos,\n",
    "    caminho_planilha_precos='C:/Users/joaop/OneDrive/Desktop/Projetos Git/Forecast vendas e elasticidade/Forecast/Precos_para_previsoes.xlsx',\n",
    "    n_splits=10\n",
    ")\n",
    "\n",
    "print(\"Resultados consolidados:\")\n",
    "print(resultados.head())\n",
    "\n",
    "print(\"\\nPrevisões consolidadas:\")\n",
    "print(previsoes.head())"
   ]
  }
 ],
 "metadata": {
  "kernelspec": {
   "display_name": "Python 3",
   "language": "python",
   "name": "python3"
  },
  "language_info": {
   "codemirror_mode": {
    "name": "ipython",
    "version": 3
   },
   "file_extension": ".py",
   "mimetype": "text/x-python",
   "name": "python",
   "nbconvert_exporter": "python",
   "pygments_lexer": "ipython3",
   "version": "3.12.2"
  }
 },
 "nbformat": 4,
 "nbformat_minor": 5
}
